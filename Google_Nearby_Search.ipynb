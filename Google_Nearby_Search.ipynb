{
 "cells": [
  {
   "cell_type": "code",
   "execution_count": 68,
   "metadata": {},
   "outputs": [],
   "source": [
    "# Dependencies and Setup\n",
    "import requests\n",
    "import gmaps\n",
    "\n",
    "# Import API key\n",
    "from config import g_key"
   ]
  },
  {
   "cell_type": "code",
   "execution_count": 53,
   "metadata": {},
   "outputs": [
    {
     "data": {
      "text/plain": [
       "{'html_attributions': [],\n",
       " 'results': [{'business_status': 'OPERATIONAL',\n",
       "   'geometry': {'location': {'lat': -20.512396, 'lng': 57.510124},\n",
       "    'viewport': {'northeast': {'lat': -20.5111542197085,\n",
       "      'lng': 57.51141983029151},\n",
       "     'southwest': {'lat': -20.5138521802915, 'lng': 57.50872186970849}}},\n",
       "   'icon': 'https://maps.gstatic.com/mapfiles/place_api/icons/v1/png_71/lodging-71.png',\n",
       "   'name': 'Baladam Pride Luxury Residence',\n",
       "   'place_id': 'ChIJJd_45eJkfCERZalPpnPUOSU',\n",
       "   'plus_code': {'compound_code': 'FGQ6+22 Surinam, Mauritius',\n",
       "    'global_code': '5HFVFGQ6+22'},\n",
       "   'rating': 4.6,\n",
       "   'reference': 'ChIJJd_45eJkfCERZalPpnPUOSU',\n",
       "   'scope': 'GOOGLE',\n",
       "   'types': ['lodging', 'point_of_interest', 'establishment'],\n",
       "   'user_ratings_total': 11,\n",
       "   'vicinity': 'Gersigny Road, Surinam'},\n",
       "  {'business_status': 'OPERATIONAL',\n",
       "   'geometry': {'location': {'lat': -20.51596649999999, 'lng': 57.5085233},\n",
       "    'viewport': {'northeast': {'lat': -20.5146800197085,\n",
       "      'lng': 57.51005943029151},\n",
       "     'southwest': {'lat': -20.5173779802915, 'lng': 57.5073614697085}}},\n",
       "   'icon': 'https://maps.gstatic.com/mapfiles/place_api/icons/v1/png_71/lodging-71.png',\n",
       "   'name': 'LondonRoadBnB',\n",
       "   'photos': [{'height': 4640,\n",
       "     'html_attributions': ['<a href=\"https://maps.google.com/maps/contrib/102106895630211811352\">Umeir Hussein Boodhoo</a>'],\n",
       "     'photo_reference': 'ATtYBwKfMk9qMQjrX2U6FrVqtbxBgNEH5BlFbUoDq2zBZPjQBfVr7duPexKs5QPDxgIaGusUF9tCXEqMx99kDS93K5GntZjuraRsCqIMezqMcnakASLEwnlvYi17Us_WxatE1BTkmEh0AOiyBKPZf7nJOOy4pvtvZHGMEyd5DlQ6MDkdrmFJ',\n",
       "     'width': 3480}],\n",
       "   'place_id': 'ChIJ37Vo-eFkfCERYEey8i2Uy2Q',\n",
       "   'plus_code': {'compound_code': 'FGM5+JC Surinam, Mauritius',\n",
       "    'global_code': '5HFVFGM5+JC'},\n",
       "   'rating': 3.5,\n",
       "   'reference': 'ChIJ37Vo-eFkfCERYEey8i2Uy2Q',\n",
       "   'scope': 'GOOGLE',\n",
       "   'types': ['lodging', 'point_of_interest', 'establishment'],\n",
       "   'user_ratings_total': 17,\n",
       "   'vicinity': 'Surinam'},\n",
       "  {'business_status': 'OPERATIONAL',\n",
       "   'geometry': {'location': {'lat': -20.516854, 'lng': 57.52284639999999},\n",
       "    'viewport': {'northeast': {'lat': -20.5154879697085,\n",
       "      'lng': 57.52424603029151},\n",
       "     'southwest': {'lat': -20.5181859302915, 'lng': 57.52154806970849}}},\n",
       "   'icon': 'https://maps.gstatic.com/mapfiles/place_api/icons/v1/png_71/lodging-71.png',\n",
       "   'name': 'Logen Subramanyan',\n",
       "   'place_id': 'ChIJmxV19RxlfCERtR9REvw5YLI',\n",
       "   'plus_code': {'compound_code': 'FGMF+74 Souillac, Mauritius',\n",
       "    'global_code': '5HFVFGMF+74'},\n",
       "   'reference': 'ChIJmxV19RxlfCERtR9REvw5YLI',\n",
       "   'scope': 'GOOGLE',\n",
       "   'types': ['lodging', 'point_of_interest', 'establishment'],\n",
       "   'vicinity': 'Souillac'},\n",
       "  {'business_status': 'OPERATIONAL',\n",
       "   'geometry': {'location': {'lat': -20.5135046, 'lng': 57.5108209},\n",
       "    'viewport': {'northeast': {'lat': -20.51191696970849,\n",
       "      'lng': 57.5123055802915},\n",
       "     'southwest': {'lat': -20.5146149302915, 'lng': 57.5096076197085}}},\n",
       "   'icon': 'https://maps.gstatic.com/mapfiles/place_api/icons/v1/png_71/lodging-71.png',\n",
       "   'name': 'Samy Xpress car wash',\n",
       "   'opening_hours': {'open_now': False},\n",
       "   'photos': [{'height': 2988,\n",
       "     'html_attributions': ['<a href=\"https://maps.google.com/maps/contrib/113908877417967571926\">Sonu 5300</a>'],\n",
       "     'photo_reference': 'ATtYBwK7N2-qxfIPmmCGSKDfctSc9plJmF6aEUgLBLhrXQr2vAHiKJ2_d7kuAlkz9tmVBmuTBj8upCtZHSlZafP8KNFDjTbWN8JInHyRa50_q-_hJRHK2fE4DKN9FOEQ8zDQ2VDXrK7I1Bsi2VelE0qa2OjsUZh7Wx8aIctngkf7OwxDb4D_',\n",
       "     'width': 5312}],\n",
       "   'place_id': 'ChIJw7b_b4tlfCERbQpVb_6SfYo',\n",
       "   'plus_code': {'compound_code': 'FGP6+H8 Surinam, Mauritius',\n",
       "    'global_code': '5HFVFGP6+H8'},\n",
       "   'reference': 'ChIJw7b_b4tlfCERbQpVb_6SfYo',\n",
       "   'scope': 'GOOGLE',\n",
       "   'types': ['lodging', 'point_of_interest', 'establishment'],\n",
       "   'vicinity': 'Surinam'},\n",
       "  {'business_status': 'OPERATIONAL',\n",
       "   'geometry': {'location': {'lat': -20.5136956, 'lng': 57.5104237},\n",
       "    'viewport': {'northeast': {'lat': -20.5125687197085,\n",
       "      'lng': 57.51154508029151},\n",
       "     'southwest': {'lat': -20.5152666802915, 'lng': 57.5088471197085}}},\n",
       "   'icon': 'https://maps.gstatic.com/mapfiles/place_api/icons/v1/png_71/lodging-71.png',\n",
       "   'name': 'Southern Travel & Tours Agency',\n",
       "   'place_id': 'ChIJh8ykVuJkfCERJran-eaGLs0',\n",
       "   'plus_code': {'compound_code': 'FGP6+G5 Surinam, Mauritius',\n",
       "    'global_code': '5HFVFGP6+G5'},\n",
       "   'rating': 4.3,\n",
       "   'reference': 'ChIJh8ykVuJkfCERJran-eaGLs0',\n",
       "   'scope': 'GOOGLE',\n",
       "   'types': ['lodging', 'point_of_interest', 'establishment'],\n",
       "   'user_ratings_total': 7,\n",
       "   'vicinity': 'Mauritius'},\n",
       "  {'business_status': 'OPERATIONAL',\n",
       "   'geometry': {'location': {'lat': -20.5123516, 'lng': 57.51034120000001},\n",
       "    'viewport': {'northeast': {'lat': -20.5111669197085,\n",
       "      'lng': 57.51160873029151},\n",
       "     'southwest': {'lat': -20.5138648802915, 'lng': 57.50891076970849}}},\n",
       "   'icon': 'https://maps.gstatic.com/mapfiles/place_api/icons/v1/png_71/lodging-71.png',\n",
       "   'name': 'Eldorado Hotel',\n",
       "   'photos': [{'height': 720,\n",
       "     'html_attributions': ['<a href=\"https://maps.google.com/maps/contrib/115600449250254938745\">jeanfdaug Dauguenette</a>'],\n",
       "     'photo_reference': 'ATtYBwJ_6o09Gd6qBfsKtzKvk1foGMi2d83bBKhihnjDMepPBJr-KccxeQaHZKTe5kfOl2EpWjBiZnMrIqPGP_prBNtar7TpBbQyhj4BtvK8JFAb-MZRGQb1fTRU99l8grtSiIcnxyFXjpX6bQCURfbECgYQCTyqmahmHljHfTq1eD4wtpuy',\n",
       "     'width': 720}],\n",
       "   'place_id': 'ChIJM8fRt-JkfCER3IWgP5YTUFA',\n",
       "   'plus_code': {'compound_code': 'FGQ6+34 Surinam, Mauritius',\n",
       "    'global_code': '5HFVFGQ6+34'},\n",
       "   'rating': 3.6,\n",
       "   'reference': 'ChIJM8fRt-JkfCER3IWgP5YTUFA',\n",
       "   'scope': 'GOOGLE',\n",
       "   'types': ['lodging', 'point_of_interest', 'establishment'],\n",
       "   'user_ratings_total': 22,\n",
       "   'vicinity': 'Route Royale, Surinam'},\n",
       "  {'business_status': 'OPERATIONAL',\n",
       "   'geometry': {'location': {'lat': -20.5156708, 'lng': 57.5087255},\n",
       "    'viewport': {'northeast': {'lat': -20.51437101970849,\n",
       "      'lng': 57.5102218802915},\n",
       "     'southwest': {'lat': -20.5170689802915, 'lng': 57.50752391970849}}},\n",
       "   'icon': 'https://maps.gstatic.com/mapfiles/place_api/icons/v1/png_71/lodging-71.png',\n",
       "   'name': 'Lovey Home AahMedh',\n",
       "   'photos': [{'height': 1920,\n",
       "     'html_attributions': ['<a href=\"https://maps.google.com/maps/contrib/106953426391897530446\">Medha Mohaband</a>'],\n",
       "     'photo_reference': 'ATtYBwJ4R2vfyGHJJVeO2DbhXEHPRmpmswlM7i8UmtsGzINa-ss6H_ifau2Q8Y5lfRTGrWDVeFYKCuCCGtsZEvutnG4uW98zp6jOsUhIc2ANCIu0Jf6iTdsyUTp420YVECXPdfN6MMD7smLp0vBdKCkVsOHJ64rJQJaBFaaY7fxLm_ORIePW',\n",
       "     'width': 1080}],\n",
       "   'place_id': 'ChIJpbQHSmhlfCER2uUGTHikz9Q',\n",
       "   'plus_code': {'compound_code': 'FGM5+PF Surinam, Mauritius',\n",
       "    'global_code': '5HFVFGM5+PF'},\n",
       "   'rating': 5,\n",
       "   'reference': 'ChIJpbQHSmhlfCER2uUGTHikz9Q',\n",
       "   'scope': 'GOOGLE',\n",
       "   'types': ['lodging', 'point_of_interest', 'establishment'],\n",
       "   'user_ratings_total': 1,\n",
       "   'vicinity': 'Surinam'},\n",
       "  {'business_status': 'OPERATIONAL',\n",
       "   'geometry': {'location': {'lat': -20.5124456, 'lng': 57.5096389},\n",
       "    'viewport': {'northeast': {'lat': -20.5110830197085,\n",
       "      'lng': 57.51095753029151},\n",
       "     'southwest': {'lat': -20.5137809802915, 'lng': 57.50825956970849}}},\n",
       "   'icon': 'https://maps.gstatic.com/mapfiles/place_api/icons/v1/png_71/lodging-71.png',\n",
       "   'name': 'dodo ecolad bernard ladouceur',\n",
       "   'place_id': 'ChIJvRmsDZBlfCERAIXd9gxoWmk',\n",
       "   'plus_code': {'compound_code': 'FGQ5+2V Surinam, Mauritius',\n",
       "    'global_code': '5HFVFGQ5+2V'},\n",
       "   'reference': 'ChIJvRmsDZBlfCERAIXd9gxoWmk',\n",
       "   'scope': 'GOOGLE',\n",
       "   'types': ['lodging', 'point_of_interest', 'establishment'],\n",
       "   'vicinity': 'Martiniere Road, Surinam'},\n",
       "  {'business_status': 'OPERATIONAL',\n",
       "   'geometry': {'location': {'lat': -20.5167016, 'lng': 57.5079836},\n",
       "    'viewport': {'northeast': {'lat': -20.5152558197085,\n",
       "      'lng': 57.5094225302915},\n",
       "     'southwest': {'lat': -20.5179537802915, 'lng': 57.5067245697085}}},\n",
       "   'icon': 'https://maps.gstatic.com/mapfiles/place_api/icons/v1/png_71/lodging-71.png',\n",
       "   'name': 'Villa Le Filao',\n",
       "   'photos': [{'height': 3168,\n",
       "     'html_attributions': ['<a href=\"https://maps.google.com/maps/contrib/108034706450324697576\">Mamta Vichet</a>'],\n",
       "     'photo_reference': 'ATtYBwLmOyEjqwjHhvX6t9r_RlSf_tqk4f9tkm_a9yfghUmAgHH9BVdP7_z_Gns41R1WQXXgJdC2VL9tc64TR0CKjLCa-3UWemFRLZZVqkwAODILFCl4WYD0dJhEZmue2Ngcx_P7XC1fljmD1qOBjT1z7sdTqkHI52RQyVBqK24OZD-u1zLA',\n",
       "     'width': 4752}],\n",
       "   'place_id': 'ChIJBVfhHx5lfCERuxyuF2S6C1I',\n",
       "   'plus_code': {'compound_code': 'FGM5+85 Surinam, Mauritius',\n",
       "    'global_code': '5HFVFGM5+85'},\n",
       "   'rating': 4.2,\n",
       "   'reference': 'ChIJBVfhHx5lfCERuxyuF2S6C1I',\n",
       "   'scope': 'GOOGLE',\n",
       "   'types': ['lodging', 'point_of_interest', 'establishment'],\n",
       "   'user_ratings_total': 24,\n",
       "   'vicinity': 'Surinam'}],\n",
       " 'status': 'OK'}"
      ]
     },
     "execution_count": 53,
     "metadata": {},
     "output_type": "execute_result"
    }
   ],
   "source": [
    "# Set the parameters to search for a hotel in desired city.\n",
    "params = {\n",
    "    \"radius\": 1000,\n",
    "    \"key\": g_key,\n",
    "    \"type\": \"lodging\",\n",
    "    \"location\": \"-20.5167, 57.5167\"}\n",
    "# Use base URL to search for hotels in desired city.\n",
    "base_url = \"https://maps.googleapis.com/maps/api/place/nearbysearch/json\"\n",
    "# Make request and get the JSON data from the search.\n",
    "hotels = requests.get(base_url, params=params).json()\n",
    "\n",
    "hotels"
   ]
  },
  {
   "cell_type": "code",
   "execution_count": 48,
   "metadata": {},
   "outputs": [
    {
     "data": {
      "text/plain": [
       "20"
      ]
     },
     "execution_count": 48,
     "metadata": {},
     "output_type": "execute_result"
    }
   ],
   "source": [
    "len(hotels[\"results\"])"
   ]
  },
  {
   "cell_type": "code",
   "execution_count": 54,
   "metadata": {},
   "outputs": [
    {
     "data": {
      "text/plain": [
       "'Baladam Pride Luxury Residence'"
      ]
     },
     "execution_count": 54,
     "metadata": {},
     "output_type": "execute_result"
    }
   ],
   "source": [
    "hotels['results'][0]['name']"
   ]
  },
  {
   "cell_type": "code",
   "execution_count": null,
   "metadata": {},
   "outputs": [],
   "source": [
    "# Function text"
   ]
  },
  {
   "cell_type": "code",
   "execution_count": 67,
   "metadata": {},
   "outputs": [
    {
     "data": {
      "text/plain": [
       "55"
      ]
     },
     "execution_count": 67,
     "metadata": {},
     "output_type": "execute_result"
    }
   ],
   "source": [
    "numbers = []\n",
    "for i in range(10 + 1):\n",
    "    numbers.append(i)\n",
    "    \n",
    "sum(numbers)"
   ]
  },
  {
   "cell_type": "code",
   "execution_count": 65,
   "metadata": {},
   "outputs": [
    {
     "data": {
      "text/plain": [
       "55"
      ]
     },
     "execution_count": 65,
     "metadata": {},
     "output_type": "execute_result"
    }
   ],
   "source": [
    "def trianglelize(number):\n",
    "    num_list = []\n",
    "    for i in range(number + 1):\n",
    "        num_list.append(i)\n",
    "    return sum(num_list)\n",
    "\n",
    "\n",
    "trianglelize(10)"
   ]
  },
  {
   "cell_type": "code",
   "execution_count": null,
   "metadata": {},
   "outputs": [],
   "source": []
  }
 ],
 "metadata": {
  "kernelspec": {
   "display_name": "PythonData",
   "language": "python",
   "name": "pythondata"
  },
  "language_info": {
   "codemirror_mode": {
    "name": "ipython",
    "version": 3
   },
   "file_extension": ".py",
   "mimetype": "text/x-python",
   "name": "python",
   "nbconvert_exporter": "python",
   "pygments_lexer": "ipython3",
   "version": "3.7.9"
  }
 },
 "nbformat": 4,
 "nbformat_minor": 4
}
